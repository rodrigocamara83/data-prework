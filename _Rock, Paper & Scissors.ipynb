{
 "cells": [
  {
   "cell_type": "code",
   "execution_count": 2,
   "metadata": {},
   "outputs": [],
   "source": [
    "import random\n",
    "from random import randint"
   ]
  },
  {
   "cell_type": "code",
   "execution_count": 3,
   "metadata": {},
   "outputs": [],
   "source": [
    "gestures=['rock', 'paper','scissors']"
   ]
  },
  {
   "cell_type": "code",
   "execution_count": 4,
   "metadata": {},
   "outputs": [],
   "source": [
    "n_rounds=[1,2,3,4,5]"
   ]
  },
  {
   "cell_type": "code",
   "execution_count": 5,
   "metadata": {},
   "outputs": [],
   "source": [
    "rounds_to_win=3"
   ]
  },
  {
   "cell_type": "code",
   "execution_count": 6,
   "metadata": {},
   "outputs": [],
   "source": [
    "cpu_score=0\n",
    "player_score=0"
   ]
  },
  {
   "cell_type": "code",
   "execution_count": 7,
   "metadata": {},
   "outputs": [
    {
     "name": "stdout",
     "output_type": "stream",
     "text": [
      "The computer chose scissors\n"
     ]
    }
   ],
   "source": [
    "computer_choise =randint(0,2)\n",
    "print(\"The computer chose\", format(gestures[computer_choise]))\n"
   ]
  },
  {
   "cell_type": "code",
   "execution_count": 13,
   "metadata": {},
   "outputs": [
    {
     "name": "stdout",
     "output_type": "stream",
     "text": [
      "Your choise:\n",
      "      [0]rock\n",
      "      [1]paper\n",
      "      [2]scissors\n",
      "      \n",
      "who is your choise?0\n",
      "computador jogou scissors\n",
      "jogador jogou rock\n"
     ]
    }
   ],
   "source": [
    "print('''Your choise:\n",
    "      [0]rock\n",
    "      [1]paper\n",
    "      [2]scissors\n",
    "      ''' )\n",
    "player_choise=int(input('who is your choise?'))\n",
    "print(\"computador jogou\",format(gestures[computer_choise]))\n",
    "print(\"jogador jogou\", format(gestures[player_choise]))"
   ]
  },
  {
   "cell_type": "code",
   "execution_count": 4,
   "metadata": {},
   "outputs": [
    {
     "name": "stdout",
     "output_type": "stream",
     "text": [
      "The computer chose scissors\n",
      "Your choise:\n",
      "      [0]rock\n",
      "      [1]paper\n",
      "      [2]scissors\n",
      "      \n",
      "who is your choise?2\n",
      "computador jogou scissors\n",
      "jogador jogou scissors\n",
      "empate\n"
     ]
    }
   ],
   "source": [
    "import random\n",
    "from random import randint\n",
    "gestures=['rock', 'paper','scissors']\n",
    "computer_choise =randint(0,2)\n",
    "print(\"The computer chose\", format(gestures[computer_choise]))\n",
    "\n",
    "print('''Your choise:\n",
    "      [0]rock\n",
    "      [1]paper\n",
    "      [2]scissors\n",
    "      ''' )\n",
    "player_choise=int(input('who is your choise?'))\n",
    "print(\"computador jogou\",format(gestures[computer_choise]))\n",
    "print(\"jogador jogou\", format(gestures[player_choise]))\n",
    "if computer_choise == 0:\n",
    "    if player_choise == 0:\n",
    "        print(\"empate\")\n",
    "    elif player_choise == 1:\n",
    "        print(\"jogador vence\")\n",
    "    elif player_choise == 2:\n",
    "        print(\"computador vence\")\n",
    "    else:\n",
    "        print(\"jogada inválida!\")\n",
    "if computer_choise == 1:\n",
    "    if player_choise == 0:\n",
    "        print(\"computador vence\")\n",
    "    elif player_choise == 1:\n",
    "        print(\"empate\")\n",
    "    elif player_choise == 2:\n",
    "        print(\"jogador vence\")\n",
    "    else:\n",
    "        print(\"jogada inválida!\")\n",
    "if computer_choise == 2:\n",
    "    if player_choise == 0:\n",
    "        print(\"jogador vence\")\n",
    "    elif player_choise == 1:\n",
    "        print(\"computador vence\")\n",
    "    elif player_choise == 2:\n",
    "        print(\"empate\")\n",
    "    else:\n",
    "        print(\"jogada inválida!\")"
   ]
  },
  {
   "cell_type": "code",
   "execution_count": 5,
   "metadata": {},
   "outputs": [
    {
     "name": "stdout",
     "output_type": "stream",
     "text": [
      "The computer chose paper\n",
      "Your choise:\n",
      "      [0]rock\n",
      "      [1]paper\n",
      "      [2]scissors\n",
      "      \n",
      "who is your choise?0\n",
      "computador jogou paper\n",
      "jogador jogou rock\n",
      "computador vence\n"
     ]
    }
   ],
   "source": [
    "import random\n",
    "from random import randint\n",
    "gestures=['rock', 'paper','scissors']\n",
    "computer_choise =randint(0,2)\n",
    "print(\"The computer chose\", format(gestures[computer_choise]))\n",
    "\n",
    "print('''Your choise:\n",
    "      [0]rock\n",
    "      [1]paper\n",
    "      [2]scissors\n",
    "      ''' )\n",
    "player_choise=int(input('who is your choise?'))\n",
    "print(\"computador jogou\",format(gestures[computer_choise]))\n",
    "print(\"jogador jogou\", format(gestures[player_choise]))\n",
    "if computer_choise == 0:\n",
    "    if player_choise == 0:\n",
    "        print(\"empate\")\n",
    "    elif player_choise == 1:\n",
    "        print(\"jogador vence\")\n",
    "    elif player_choise == 2:\n",
    "        print(\"computador vence\")\n",
    "    else:\n",
    "        print(\"jogada inválida!\")\n",
    "if computer_choise == 1:\n",
    "    if player_choise == 0:\n",
    "        print(\"computador vence\")\n",
    "    elif player_choise == 1:\n",
    "        print(\"empate\")\n",
    "    elif player_choise == 2:\n",
    "        print(\"jogador vence\")\n",
    "    else:\n",
    "        print(\"jogada inválida!\")\n",
    "if computer_choise == 2:\n",
    "    if player_choise == 0:\n",
    "        print(\"jogador vence\")\n",
    "    elif player_choise == 1:\n",
    "        print(\"computador vence\")\n",
    "    elif player_choise == 2:\n",
    "        print(\"empate\")\n",
    "    else:\n",
    "        print(\"jogada inválida!\")"
   ]
  },
  {
   "cell_type": "code",
   "execution_count": 6,
   "metadata": {},
   "outputs": [
    {
     "name": "stdout",
     "output_type": "stream",
     "text": [
      "The computer chose rock\n",
      "Your choise:\n",
      "      [0]rock\n",
      "      [1]paper\n",
      "      [2]scissors\n",
      "      \n",
      "who is your choise?0\n",
      "computador jogou rock\n",
      "jogador jogou rock\n",
      "empate\n"
     ]
    }
   ],
   "source": [
    "import random\n",
    "from random import randint\n",
    "gestures=['rock', 'paper','scissors']\n",
    "computer_choise =randint(0,2)\n",
    "print(\"The computer chose\", format(gestures[computer_choise]))\n",
    "\n",
    "print('''Your choise:\n",
    "      [0]rock\n",
    "      [1]paper\n",
    "      [2]scissors\n",
    "      ''' )\n",
    "player_choise=int(input('who is your choise?'))\n",
    "print(\"computador jogou\",format(gestures[computer_choise]))\n",
    "print(\"jogador jogou\", format(gestures[player_choise]))\n",
    "if computer_choise == 0:\n",
    "    if player_choise == 0:\n",
    "        print(\"empate\")\n",
    "    elif player_choise == 1:\n",
    "        print(\"jogador vence\")\n",
    "    elif player_choise == 2:\n",
    "        print(\"computador vence\")\n",
    "    else:\n",
    "        print(\"jogada inválida!\")\n",
    "if computer_choise == 1:\n",
    "    if player_choise == 0:\n",
    "        print(\"computador vence\")\n",
    "    elif player_choise == 1:\n",
    "        print(\"empate\")\n",
    "    elif player_choise == 2:\n",
    "        print(\"jogador vence\")\n",
    "    else:\n",
    "        print(\"jogada inválida!\")\n",
    "if computer_choise == 2:\n",
    "    if player_choise == 0:\n",
    "        print(\"jogador vence\")\n",
    "    elif player_choise == 1:\n",
    "        print(\"computador vence\")\n",
    "    elif player_choise == 2:\n",
    "        print(\"empate\")\n",
    "    else:\n",
    "        print(\"jogada inválida!\")"
   ]
  },
  {
   "cell_type": "code",
   "execution_count": 7,
   "metadata": {},
   "outputs": [
    {
     "name": "stdout",
     "output_type": "stream",
     "text": [
      "The computer chose scissors\n",
      "Your choise:\n",
      "      [0]rock\n",
      "      [1]paper\n",
      "      [2]scissors\n",
      "      \n",
      "who is your choise?0\n",
      "computador jogou scissors\n",
      "jogador jogou rock\n",
      "jogador vence\n"
     ]
    }
   ],
   "source": [
    "import random\n",
    "from random import randint\n",
    "gestures=['rock', 'paper','scissors']\n",
    "computer_choise =randint(0,2)\n",
    "print(\"The computer chose\", format(gestures[computer_choise]))\n",
    "\n",
    "print('''Your choise:\n",
    "      [0]rock\n",
    "      [1]paper\n",
    "      [2]scissors\n",
    "      ''' )\n",
    "player_choise=int(input('who is your choise?'))\n",
    "print(\"computador jogou\",format(gestures[computer_choise]))\n",
    "print(\"jogador jogou\", format(gestures[player_choise]))\n",
    "if computer_choise == 0:\n",
    "    if player_choise == 0:\n",
    "        print(\"empate\")\n",
    "    elif player_choise == 1:\n",
    "        print(\"jogador vence\")\n",
    "    elif player_choise == 2:\n",
    "        print(\"computador vence\")\n",
    "    else:\n",
    "        print(\"jogada inválida!\")\n",
    "if computer_choise == 1:\n",
    "    if player_choise == 0:\n",
    "        print(\"computador vence\")\n",
    "    elif player_choise == 1:\n",
    "        print(\"empate\")\n",
    "    elif player_choise == 2:\n",
    "        print(\"jogador vence\")\n",
    "    else:\n",
    "        print(\"jogada inválida!\")\n",
    "if computer_choise == 2:\n",
    "    if player_choise == 0:\n",
    "        print(\"jogador vence\")\n",
    "    elif player_choise == 1:\n",
    "        print(\"computador vence\")\n",
    "    elif player_choise == 2:\n",
    "        print(\"empate\")\n",
    "    else:\n",
    "        print(\"jogada inválida!\")"
   ]
  },
  {
   "cell_type": "code",
   "execution_count": 10,
   "metadata": {},
   "outputs": [
    {
     "name": "stdout",
     "output_type": "stream",
     "text": [
      "The computer chose scissors\n",
      "Your choise:\n",
      "      [0]rock\n",
      "      [1]paper\n",
      "      [2]scissors\n",
      "      \n",
      "who is your choise?2\n",
      "computador jogou scissors\n",
      "jogador jogou scissors\n",
      "empate\n"
     ]
    }
   ],
   "source": [
    "import random\n",
    "from random import randint\n",
    "gestures=['rock', 'paper','scissors']\n",
    "computer_choise =randint(0,2)\n",
    "print(\"The computer chose\", format(gestures[computer_choise]))\n",
    "\n",
    "print('''Your choise:\n",
    "      [0]rock\n",
    "      [1]paper\n",
    "      [2]scissors\n",
    "      ''' )\n",
    "player_choise=int(input('who is your choise?'))\n",
    "print(\"computador jogou\",format(gestures[computer_choise]))\n",
    "print(\"jogador jogou\", format(gestures[player_choise]))\n",
    "if computer_choise == 0:\n",
    "    if player_choise == 0:\n",
    "        print(\"empate\")\n",
    "    elif player_choise == 1:\n",
    "        print(\"jogador vence\")\n",
    "    elif player_choise == 2:\n",
    "        print(\"computador vence\")\n",
    "    else:\n",
    "        print(\"jogada inválida!\")\n",
    "if computer_choise == 1:\n",
    "    if player_choise == 0:\n",
    "        print(\"computador vence\")\n",
    "    elif player_choise == 1:\n",
    "        print(\"empate\")\n",
    "    elif player_choise == 2:\n",
    "        print(\"jogador vence\")\n",
    "    else:\n",
    "        print(\"jogada inválida!\")\n",
    "if computer_choise == 2:\n",
    "    if player_choise == 0:\n",
    "        print(\"jogador vence\")\n",
    "    elif player_choise == 1:\n",
    "        print(\"computador vence\")\n",
    "    elif player_choise == 2:\n",
    "        print(\"empate\")\n",
    "    else:\n",
    "        print(\"jogada inválida!\")"
   ]
  },
  {
   "cell_type": "code",
   "execution_count": 13,
   "metadata": {},
   "outputs": [
    {
     "name": "stdout",
     "output_type": "stream",
     "text": [
      "O jogo ficou empatado!\n"
     ]
    }
   ],
   "source": [
    "print(\"O jogo ficou empatado!\")"
   ]
  },
  {
   "cell_type": "code",
   "execution_count": null,
   "metadata": {},
   "outputs": [],
   "source": []
  }
 ],
 "metadata": {
  "kernelspec": {
   "display_name": "Python 3",
   "language": "python",
   "name": "python3"
  },
  "language_info": {
   "codemirror_mode": {
    "name": "ipython",
    "version": 3
   },
   "file_extension": ".py",
   "mimetype": "text/x-python",
   "name": "python",
   "nbconvert_exporter": "python",
   "pygments_lexer": "ipython3",
   "version": "3.8.3"
  }
 },
 "nbformat": 4,
 "nbformat_minor": 4
}
