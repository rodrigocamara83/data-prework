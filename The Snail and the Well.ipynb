{
 "cells": [
  {
   "cell_type": "code",
   "execution_count": 1,
   "metadata": {},
   "outputs": [],
   "source": [
    " well_height=125\n",
    "daily_distance=30\n",
    "nightly_distance=20\n",
    "snail_position=0"
   ]
  },
  {
   "cell_type": "code",
   "execution_count": 8,
   "metadata": {
    "scrolled": true
   },
   "outputs": [
    {
     "name": "stdout",
     "output_type": "stream",
     "text": [
      "Snail is in the bottom of a well.\n",
      "snail is climbing the well.\n",
      "snail is climbing the well.\n",
      "snail is climbing the well.\n",
      "snail is climbing the well.\n",
      "snail is climbing the well.\n",
      "snail is climbing the well.\n",
      "snail is climbing the well.\n",
      "snail is climbing the well.\n",
      "snail is climbing the well.\n",
      "snail is climbing the well.\n",
      "snail is climbing the well.\n",
      "snail is climbing the well.\n",
      "snail is out of the well, is safe now!\n"
     ]
    }
   ],
   "source": [
    "well_height=125\n",
    "daily_distance=30\n",
    "nightly_distance=20\n",
    "snail_position=0\n",
    "\n",
    "print(\"Snail is in the bottom of a well.\")\n",
    "snail_position += (daily_distance-nightly_distance)\n",
    "\n",
    "while snail_position < well_height:\n",
    "    print (\"snail is climbing the well.\")\n",
    "    snail_position += (daily_distance-nightly_distance)\n",
    "    \n",
    "print(\"snail is out of the well, is safe now!\")"
   ]
  },
  {
   "cell_type": "code",
   "execution_count": 40,
   "metadata": {},
   "outputs": [
    {
     "name": "stdout",
     "output_type": "stream",
     "text": [
      "The days snails out of the well is expected to be 12.5 days\n"
     ]
    }
   ],
   "source": [
    "well_height=125\n",
    "daily_distance=30\n",
    "nightly_distance=20\n",
    "snail_position=0\n",
    "\n",
    "if (well_height >= (daily_distance-nightly_distance)) == True | (daily_distance-nightly_distance) <= well_height == True:\n",
    "    if (well_height >= (daily_distance-nightly_distance)) == True & (daily_distance-nightly_distance) <= well_height == True:\n",
    "        days_out = well_height / (daily_distance-nightly_distance)\n",
    "    elif (well_height >= (daily_distance-nightly_distance)) == True & (daily_distance-nightly_distance) >= well_height == False:\n",
    "        days_out = well_height / (daily_distance-nightly_distance) \n",
    "else:\n",
    "    days_out = well_height / (daily_distance-nightly_distance) \n",
    "    \n",
    "    print (\"The days snails out of the well is expected to be\", days_out,\"days\")"
   ]
  },
  {
   "cell_type": "code",
   "execution_count": null,
   "metadata": {},
   "outputs": [],
   "source": []
  }
 ],
 "metadata": {
  "kernelspec": {
   "display_name": "Python 3",
   "language": "python",
   "name": "python3"
  },
  "language_info": {
   "codemirror_mode": {
    "name": "ipython",
    "version": 3
   },
   "file_extension": ".py",
   "mimetype": "text/x-python",
   "name": "python",
   "nbconvert_exporter": "python",
   "pygments_lexer": "ipython3",
   "version": "3.8.3"
  }
 },
 "nbformat": 4,
 "nbformat_minor": 4
}
