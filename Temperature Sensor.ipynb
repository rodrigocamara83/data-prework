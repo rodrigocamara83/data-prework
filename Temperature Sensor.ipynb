{
 "cells": [
  {
   "cell_type": "code",
   "execution_count": 10,
   "metadata": {},
   "outputs": [
    {
     "data": {
      "text/plain": [
       "0"
      ]
     },
     "execution_count": 10,
     "metadata": {},
     "output_type": "execute_result"
    }
   ],
   "source": [
    "temperatures_C = [33, 66, 65, 0, 59, 60, 62, 64, 70, 76, 80, 81, 80, 83, 90, 79, 61, 53, 50, 49, 53, 48, 45, 39]\n",
    "min(temperatures_C)"
   ]
  },
  {
   "cell_type": "code",
   "execution_count": 11,
   "metadata": {},
   "outputs": [
    {
     "name": "stdout",
     "output_type": "stream",
     "text": [
      "The minimum temperature is 0\n"
     ]
    }
   ],
   "source": [
    "Minimum_temperature=0\n",
    "print(\"The minimum temperature is\", Minimum_temperature)"
   ]
  },
  {
   "cell_type": "code",
   "execution_count": 12,
   "metadata": {},
   "outputs": [
    {
     "data": {
      "text/plain": [
       "90"
      ]
     },
     "execution_count": 12,
     "metadata": {},
     "output_type": "execute_result"
    }
   ],
   "source": [
    "max(temperatures_C)"
   ]
  },
  {
   "cell_type": "code",
   "execution_count": 13,
   "metadata": {},
   "outputs": [
    {
     "name": "stdout",
     "output_type": "stream",
     "text": [
      "The maximum temperature is 90\n"
     ]
    }
   ],
   "source": [
    "Maximum_temperature=90\n",
    "print (\"The maximum temperature is\", Maximum_temperature)"
   ]
  },
  {
   "cell_type": "code",
   "execution_count": 19,
   "metadata": {},
   "outputs": [],
   "source": [
    "List_70=[70, 76, 80, 81, 80, 83, 90, 79]"
   ]
  },
  {
   "cell_type": "code",
   "execution_count": 21,
   "metadata": {},
   "outputs": [
    {
     "data": {
      "text/plain": [
       "60.25"
      ]
     },
     "execution_count": 21,
     "metadata": {},
     "output_type": "execute_result"
    }
   ],
   "source": [
    "sum(temperatures_C)/len(temperatures_C)"
   ]
  },
  {
   "cell_type": "code",
   "execution_count": 23,
   "metadata": {},
   "outputs": [],
   "source": [
    "Average_Day=60.25"
   ]
  },
  {
   "cell_type": "code",
   "execution_count": 33,
   "metadata": {},
   "outputs": [
    {
     "name": "stdout",
     "output_type": "stream",
     "text": [
      "The temperature is 91.4\n"
     ]
    }
   ],
   "source": [
    "temperatures_C = [33, 66, 65, 0, 59, 60, 62, 64, 70, 76, 80, 81, 80, 83, 90, 79, 61, 53, 50, 49, 53, 48, 45, 39]\n",
    "F33=1.8 * 33 +32\n",
    "print(\"The temperature is\", F33)"
   ]
  },
  {
   "cell_type": "code",
   "execution_count": 34,
   "metadata": {},
   "outputs": [
    {
     "name": "stdout",
     "output_type": "stream",
     "text": [
      "The temperature is 150.8\n"
     ]
    }
   ],
   "source": [
    "F66=1.8 * 66 +32\n",
    "print(\"The temperature is\", F66)"
   ]
  },
  {
   "cell_type": "code",
   "execution_count": 55,
   "metadata": {},
   "outputs": [
    {
     "name": "stdout",
     "output_type": "stream",
     "text": [
      "True\n",
      "False\n"
     ]
    },
    {
     "data": {
      "text/plain": [
       "8"
      ]
     },
     "execution_count": 55,
     "metadata": {},
     "output_type": "execute_result"
    }
   ],
   "source": [
    "print(Maximum_temperature>=80)\n",
    "print(Average_Day>65)\n",
    "len(List_70)"
   ]
  },
  {
   "cell_type": "code",
   "execution_count": 59,
   "metadata": {},
   "outputs": [
    {
     "name": "stdout",
     "output_type": "stream",
     "text": [
      "The cooling system needs to be replaced for a new one 2 times\n"
     ]
    }
   ],
   "source": [
    "Replaced_number=\"2 times\" \n",
    "print(\"The cooling system needs to be replaced for a new one\",Replaced_number)"
   ]
  },
  {
   "cell_type": "code",
   "execution_count": 43,
   "metadata": {},
   "outputs": [],
   "source": [
    "Bonus\n",
    "List_greater70=[76, 80, 81, 80, 83, 90, 79]"
   ]
  },
  {
   "cell_type": "code",
   "execution_count": 44,
   "metadata": {},
   "outputs": [
    {
     "data": {
      "text/plain": [
       "7"
      ]
     },
     "execution_count": 44,
     "metadata": {},
     "output_type": "execute_result"
    }
   ],
   "source": [
    "len(List_greater70)"
   ]
  },
  {
   "cell_type": "code",
   "execution_count": 45,
   "metadata": {},
   "outputs": [
    {
     "name": "stdout",
     "output_type": "stream",
     "text": [
      "True\n"
     ]
    }
   ],
   "source": [
    "print(len(List_greater70)>4)"
   ]
  },
  {
   "cell_type": "code",
   "execution_count": 60,
   "metadata": {},
   "outputs": [
    {
     "name": "stdout",
     "output_type": "stream",
     "text": [
      "True\n",
      "False\n"
     ]
    },
    {
     "data": {
      "text/plain": [
       "7"
      ]
     },
     "execution_count": 60,
     "metadata": {},
     "output_type": "execute_result"
    }
   ],
   "source": [
    "print(Maximum_temperature>=80)\n",
    "print(Average_Day>65)\n",
    "len(List_greater70)"
   ]
  },
  {
   "cell_type": "code",
   "execution_count": 61,
   "metadata": {},
   "outputs": [
    {
     "name": "stdout",
     "output_type": "stream",
     "text": [
      "The cooling system needs to be replaced for a new one 2 times\n"
     ]
    }
   ],
   "source": [
    "Replaced_number=\"2 times\" \n",
    "print(\"The cooling system needs to be replaced for a new one\",Replaced_number)"
   ]
  },
  {
   "cell_type": "code",
   "execution_count": 24,
   "metadata": {},
   "outputs": [
    {
     "name": "stdout",
     "output_type": "stream",
     "text": [
      "The C temperature of the average is 81.28571428571429\n"
     ]
    }
   ],
   "source": [
    "List_greater70=[76, 80, 81, 80, 83, 90, 79]\n",
    "print(\"The C temperature of the average is\", sum(List_greater70)/len(List_greater70))"
   ]
  },
  {
   "cell_type": "code",
   "execution_count": 63,
   "metadata": {},
   "outputs": [
    {
     "name": "stdout",
     "output_type": "stream",
     "text": [
      "The temperature is 168.8\n"
     ]
    }
   ],
   "source": [
    "List_greater70=[76, 80, 81, 80, 83, 90, 79]\n",
    "F76=1.8 * 76 +32\n",
    "print(\"The temperature is\", F76)"
   ]
  },
  {
   "cell_type": "code",
   "execution_count": 64,
   "metadata": {},
   "outputs": [
    {
     "name": "stdout",
     "output_type": "stream",
     "text": [
      "The temperature is 176.0\n"
     ]
    }
   ],
   "source": [
    "List_greater70=[76, 80, 81, 80, 83, 90, 79]\n",
    "F80=1.8 * 80 +32\n",
    "print(\"The temperature is\", F80)"
   ]
  },
  {
   "cell_type": "code",
   "execution_count": 69,
   "metadata": {},
   "outputs": [
    {
     "name": "stdout",
     "output_type": "stream",
     "text": [
      "The temperature is 177.8\n"
     ]
    }
   ],
   "source": [
    "List_greater70=[76, 80, 81, 80, 83, 90, 79]\n",
    "F81=1.8 * 81 +32\n",
    "print(\"The temperature is\", F81)"
   ]
  },
  {
   "cell_type": "code",
   "execution_count": 66,
   "metadata": {},
   "outputs": [
    {
     "name": "stdout",
     "output_type": "stream",
     "text": [
      "The temperature is 181.4\n"
     ]
    }
   ],
   "source": [
    "List_greater70=[76, 80, 81, 80, 83, 90, 79]\n",
    "F83=1.8 * 83 +32\n",
    "print(\"The temperature is\", F83)"
   ]
  },
  {
   "cell_type": "code",
   "execution_count": 67,
   "metadata": {},
   "outputs": [
    {
     "name": "stdout",
     "output_type": "stream",
     "text": [
      "The temperature is 194.0\n"
     ]
    }
   ],
   "source": [
    "List_greater70=[76, 80, 81, 80, 83, 90, 79]\n",
    "F90=1.8 * 90 +32\n",
    "print(\"The temperature is\", F90)"
   ]
  },
  {
   "cell_type": "code",
   "execution_count": 68,
   "metadata": {},
   "outputs": [
    {
     "name": "stdout",
     "output_type": "stream",
     "text": [
      "The temperature is 174.20000000000002\n"
     ]
    }
   ],
   "source": [
    "List_greater70=[76, 80, 81, 80, 83, 90, 79]\n",
    "F79=1.8 * 79 +32\n",
    "print(\"The temperature is\", F79)"
   ]
  },
  {
   "cell_type": "code",
   "execution_count": 70,
   "metadata": {},
   "outputs": [
    {
     "data": {
      "text/plain": [
       "178.31428571428572"
      ]
     },
     "execution_count": 70,
     "metadata": {},
     "output_type": "execute_result"
    }
   ],
   "source": [
    "List_f=[168.8, 176, 177.8, 176, 181.4, 194, 174.2]\n",
    "sum(List_f)/len(List_f)"
   ]
  },
  {
   "cell_type": "code",
   "execution_count": 17,
   "metadata": {},
   "outputs": [
    {
     "name": "stdout",
     "output_type": "stream",
     "text": [
      "The F temperature of the average is 178.313\n"
     ]
    }
   ],
   "source": [
    "Avarage_C=81.28571428571429\n",
    "F=1.8 * 81.285 +32\n",
    "print(\"The F temperature of the average is\", F)"
   ]
  },
  {
   "cell_type": "code",
   "execution_count": 15,
   "metadata": {},
   "outputs": [
    {
     "name": "stdout",
     "output_type": "stream",
     "text": [
      "The standard deviation of de C temperature is 4.386125310350269\n"
     ]
    }
   ],
   "source": [
    "import statistics\n",
    "\n",
    "print(\"The standard deviation of de C temperature is\", statistics.stdev([76, 80, 81, 80, 83, 90, 79]))"
   ]
  },
  {
   "cell_type": "code",
   "execution_count": 12,
   "metadata": {},
   "outputs": [
    {
     "data": {
      "text/plain": [
       "7.895025558630483"
      ]
     },
     "execution_count": 12,
     "metadata": {},
     "output_type": "execute_result"
    }
   ],
   "source": [
    "import statistics\n",
    "\n",
    "statistics.stdev([168.8, 176, 177.8, 176, 181.4, 194, 174.2])"
   ]
  },
  {
   "cell_type": "code",
   "execution_count": 16,
   "metadata": {},
   "outputs": [
    {
     "name": "stdout",
     "output_type": "stream",
     "text": [
      "The standard deviation of de F temperature is 7.895025558630483\n"
     ]
    }
   ],
   "source": [
    "print(\"The standard deviation of de F temperature is\", statistics.stdev([168.8, 176, 177.8, 176, 181.4, 194, 174.2]))"
   ]
  },
  {
   "cell_type": "code",
   "execution_count": null,
   "metadata": {},
   "outputs": [],
   "source": []
  }
 ],
 "metadata": {
  "kernelspec": {
   "display_name": "Python 3",
   "language": "python",
   "name": "python3"
  },
  "language_info": {
   "codemirror_mode": {
    "name": "ipython",
    "version": 3
   },
   "file_extension": ".py",
   "mimetype": "text/x-python",
   "name": "python",
   "nbconvert_exporter": "python",
   "pygments_lexer": "ipython3",
   "version": "3.8.3"
  }
 },
 "nbformat": 4,
 "nbformat_minor": 4
}
