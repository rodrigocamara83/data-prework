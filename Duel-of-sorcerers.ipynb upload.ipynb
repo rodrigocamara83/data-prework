{
 "cells": [
  {
   "cell_type": "code",
   "execution_count": 3,
   "metadata": {},
   "outputs": [
    {
     "data": {
      "text/plain": [
       "[10,\n",
       " 11,\n",
       " 13,\n",
       " 30,\n",
       " 22,\n",
       " 11,\n",
       " 10,\n",
       " 33,\n",
       " 22,\n",
       " 22,\n",
       " 23,\n",
       " 66,\n",
       " 12,\n",
       " 43,\n",
       " 12,\n",
       " 10,\n",
       " 44,\n",
       " 23,\n",
       " 12,\n",
       " 17]"
      ]
     },
     "execution_count": 3,
     "metadata": {},
     "output_type": "execute_result"
    }
   ],
   "source": [
    "gandalf = [10, 11, 13, 30, 22, 11, 10, 33, 22, 22]\n",
    "saruman = [23, 66, 12, 43, 12, 10, 44, 23, 12, 17]\n",
    "comb_spells = gandalf + saruman\n",
    "comb_spells\n"
   ]
  },
  {
   "cell_type": "code",
   "execution_count": 25,
   "metadata": {},
   "outputs": [
    {
     "data": {
      "text/plain": [
       "6"
      ]
     },
     "execution_count": 25,
     "metadata": {},
     "output_type": "execute_result"
    }
   ],
   "source": [
    "gandalf_wins = [0, 1, 2, 3, 4, 5]\n",
    "saruman_wins = [0,1,2,3]\n",
    "\n",
    "len(gandalf_wins)"
   ]
  },
  {
   "cell_type": "code",
   "execution_count": 26,
   "metadata": {},
   "outputs": [
    {
     "data": {
      "text/plain": [
       "4"
      ]
     },
     "execution_count": 26,
     "metadata": {},
     "output_type": "execute_result"
    }
   ],
   "source": [
    "len(saruman_wins)"
   ]
  },
  {
   "cell_type": "code",
   "execution_count": 34,
   "metadata": {},
   "outputs": [
    {
     "name": "stdout",
     "output_type": "stream",
     "text": [
      "0\n",
      "1\n",
      "2\n",
      "3\n",
      "4\n",
      "5\n"
     ]
    }
   ],
   "source": [
    "\n",
    "for gandalf_wins in gandalf_wins:\n",
    "    print(gandalf_wins)"
   ]
  },
  {
   "cell_type": "code",
   "execution_count": 35,
   "metadata": {},
   "outputs": [
    {
     "name": "stdout",
     "output_type": "stream",
     "text": [
      "0\n",
      "1\n",
      "2\n",
      "3\n"
     ]
    }
   ],
   "source": [
    "for saruman_wins in saruman_wins:\n",
    "    print(saruman_wins)"
   ]
  },
  {
   "cell_type": "code",
   "execution_count": 36,
   "metadata": {},
   "outputs": [
    {
     "data": {
      "text/plain": [
       "['Fireball',\n",
       " 'Lightning bolt',\n",
       " 'Lightning bolt',\n",
       " 'Magic arrow',\n",
       " 'Fireball',\n",
       " 'Magic arrow',\n",
       " 'Lightning bolt',\n",
       " 'Fireball',\n",
       " 'Fireball',\n",
       " 'Fireball',\n",
       " 'Contagion',\n",
       " 'Contagion',\n",
       " 'Black Tentacles',\n",
       " 'Fireball',\n",
       " 'Black Tentacles',\n",
       " 'Lightning bolt',\n",
       " 'Magic arrow',\n",
       " 'Contagion',\n",
       " 'Magic arrow',\n",
       " 'Magic arrow']"
      ]
     },
     "execution_count": 36,
     "metadata": {},
     "output_type": "execute_result"
    }
   ],
   "source": [
    "POWER = {'Fireball': 50, \n",
    "    'Lightning bolt': 40, \n",
    "    'Magic arrow': 10, \n",
    "    'Black Tentacles': 25, \n",
    "    'Contagion': 45} \n",
    "\n",
    "gandalf = ['Fireball', 'Lightning bolt', 'Lightning bolt', 'Magic arrow', 'Fireball', \n",
    "           'Magic arrow', 'Lightning bolt', 'Fireball', 'Fireball', 'Fireball']\n",
    "\n",
    "saruman = ['Contagion', 'Contagion', 'Black Tentacles', 'Fireball', 'Black Tentacles', \n",
    "           'Lightning bolt', 'Magic arrow', 'Contagion', 'Magic arrow', 'Magic arrow']\n",
    "\n",
    "comb_spells = gandalf + saruman\n",
    "comb_spells"
   ]
  },
  {
   "cell_type": "code",
   "execution_count": 44,
   "metadata": {},
   "outputs": [
    {
     "data": {
      "text/plain": [
       "7"
      ]
     },
     "execution_count": 44,
     "metadata": {},
     "output_type": "execute_result"
    }
   ],
   "source": [
    "POWER = {'Fireball': 50, \n",
    "    'Lightning bolt': 40, \n",
    "    'Magic arrow': 10, \n",
    "    'Black Tentacles': 25, \n",
    "    'Contagion': 45} \n",
    "\n",
    "gandalf = [50, 40, 40, 10, 50, 10, 40, 50, 50, 50]\n",
    "saruman = [45, 45, 25, 50, 25, 40, 10, 45, 10, 10]\n",
    "\n",
    "gandalf_wins=[0,1,2,3,4,5,6]\n",
    "sarum_wins=[0,1,2]\n",
    "\n",
    "len(gandalf_wins)"
   ]
  },
  {
   "cell_type": "code",
   "execution_count": 49,
   "metadata": {},
   "outputs": [
    {
     "data": {
      "text/plain": [
       "3"
      ]
     },
     "execution_count": 49,
     "metadata": {},
     "output_type": "execute_result"
    }
   ],
   "source": [
    "len(sarum_wins)\n",
    "\n",
    "\n"
   ]
  },
  {
   "cell_type": "code",
   "execution_count": null,
   "metadata": {},
   "outputs": [],
   "source": [
    "gandalf_power = ['Fireball':50, 'Lightning bolt':40, 'Lightning bolt':40, 'Magic arrow':10, 'Fireball':50, \n",
    "           'Magic arrow':10, 'Lightning bolt':40, 'Fireball':50, 'Fireball':50, 'Fireball':50]\n",
    "\n",
    "saruman_power = ['Contagion':45, 'Contagion':45, 'Black Tentacles':25, 'Fireball':50, 'Black Tentacles':25, \n",
    "           'Lightning bolt':40, 'Magic arrow':10, 'Contagion':45, 'Magic arrow':10, 'Magic arrow':10]\n"
   ]
  },
  {
   "cell_type": "code",
   "execution_count": null,
   "metadata": {},
   "outputs": [],
   "source": []
  }
 ],
 "metadata": {
  "kernelspec": {
   "display_name": "Python 3",
   "language": "python",
   "name": "python3"
  },
  "language_info": {
   "codemirror_mode": {
    "name": "ipython",
    "version": 3
   },
   "file_extension": ".py",
   "mimetype": "text/x-python",
   "name": "python",
   "nbconvert_exporter": "python",
   "pygments_lexer": "ipython3",
   "version": "3.8.3"
  }
 },
 "nbformat": 4,
 "nbformat_minor": 4
}
